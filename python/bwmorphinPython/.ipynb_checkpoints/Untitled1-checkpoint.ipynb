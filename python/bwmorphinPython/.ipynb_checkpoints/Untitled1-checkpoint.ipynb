{
 "cells": [
  {
   "cell_type": "code",
   "execution_count": null,
   "metadata": {},
   "outputs": [
    {
     "name": "stderr",
     "output_type": "stream",
     "text": [
      "/home/vahid/anaconda3/lib/python3.6/site-packages/ipykernel_launcher.py:8: DeprecationWarning: `imread` is deprecated!\n",
      "`imread` is deprecated in SciPy 1.0.0, and will be removed in 1.2.0.\n",
      "Use ``imageio.imread`` instead.\n",
      "  \n"
     ]
    }
   ],
   "source": [
    "import itertools\n",
    "\n",
    "from scipy import misc\n",
    "from scipy.sparse.dok import dok_matrix\n",
    "from scipy.sparse.csgraph import dijkstra\n",
    "\n",
    "# Load the image from disk as a numpy ndarray\n",
    "img = misc.imread('C301B-1-07252017-2K7A2124.png')\n",
    "\n",
    "# Create a flat color image for graph building:\n",
    "#img = original_img[:, :, 0] + original_img[:, :, 1] + original_img[:, :, 2]\n",
    "\n",
    "\n",
    "# Defines a translation from 2 coordinates to a single number\n",
    "def to_index(y, x):\n",
    "    return y * img.shape[1] + x\n",
    "\n",
    "\n",
    "# Defines a reversed translation from index to 2 coordinates\n",
    "def to_coordinates(index):\n",
    "    return index / img.shape[1], index % img.shape[1]\n",
    "\n",
    "\n",
    "# A sparse adjacency matrix.\n",
    "# Two pixels are adjacent in the graph if both are painted.\n",
    "adjacency = dok_matrix((img.shape[0] * img.shape[1],\n",
    "                        img.shape[0] * img.shape[1]), dtype=bool)\n",
    "\n",
    "# The following lines fills the adjacency matrix by\n",
    "directions = list(itertools.product([0, 1, -1], [0, 1, -1]))\n",
    "for i in range(1, img.shape[0] - 1):\n",
    "    for j in range(1, img.shape[1] - 1):\n",
    "        if not img[i, j]:\n",
    "            continue\n",
    "\n",
    "        for y_diff, x_diff in directions:\n",
    "            if img[i + y_diff, j + x_diff]:\n",
    "                adjacency[to_index(i, j),\n",
    "                          to_index(i + y_diff, j + x_diff)] = True\n",
    "\n",
    "# We chose two arbitrary points, which we know are connected\n",
    "source = to_index(14, 47)\n",
    "target = to_index(151, 122)\n",
    "\n",
    "# Compute the shortest path between the source and all other points in the image\n",
    "_, predecessors = dijkstra(adjacency, directed=False, indices=[source],\n",
    "                           unweighted=True, return_predecessors=True)\n",
    "\n",
    "# Constructs the path between source and target\n",
    "pixel_index = target\n",
    "pixels_path = []\n",
    "while pixel_index != source:\n",
    "    pixels_path.append(pixel_index)\n",
    "    pixel_index = predecessors[0, pixel_index]\n",
    "\n",
    "\n",
    "# The following code is just for debugging and it visualizes the chosen path\n",
    "import matplotlib.pyplot as plt\n",
    "\n",
    "for pixel_index in pixels_path:\n",
    "    i, j = to_coordinates(pixel_index)\n",
    "    original_img[i, j, 0] = original_img[i, j, 1] = 0\n",
    "\n",
    "plt.imshow(original_img)\n",
    "plt.show()"
   ]
  },
  {
   "cell_type": "code",
   "execution_count": null,
   "metadata": {
    "collapsed": true
   },
   "outputs": [],
   "source": []
  }
 ],
 "metadata": {
  "kernelspec": {
   "display_name": "Python 3",
   "language": "python",
   "name": "python3"
  },
  "language_info": {
   "codemirror_mode": {
    "name": "ipython",
    "version": 3
   },
   "file_extension": ".py",
   "mimetype": "text/x-python",
   "name": "python",
   "nbconvert_exporter": "python",
   "pygments_lexer": "ipython3",
   "version": "3.6.2"
  }
 },
 "nbformat": 4,
 "nbformat_minor": 2
}
