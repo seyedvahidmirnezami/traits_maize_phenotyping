{
 "cells": [
  {
   "cell_type": "code",
   "execution_count": 1,
   "metadata": {
    "collapsed": true
   },
   "outputs": [],
   "source": [
    "import numpy as np\n",
    "import cv2\n",
    "import matplotlib.pyplot as plt\n",
    "import numpy.matlib"
   ]
  },
  {
   "cell_type": "code",
   "execution_count": 2,
   "metadata": {},
   "outputs": [
    {
     "name": "stdout",
     "output_type": "stream",
     "text": [
      "nrows\n",
      "8688\n",
      "ncols\n",
      "5792\n"
     ]
    }
   ],
   "source": [
    "image = cv2.imread('C304B-4-07252017-2K7A2259.JPG',cv2.IMREAD_COLOR)\n",
    "nrows, ncols, channels = image.shape\n",
    "print ('nrows')\n",
    "print (nrows)\n",
    "print ('ncols')\n",
    "print (ncols)"
   ]
  },
  {
   "cell_type": "code",
   "execution_count": 3,
   "metadata": {},
   "outputs": [
    {
     "name": "stdout",
     "output_type": "stream",
     "text": [
      "(8688, 5792, 2)\n",
      "(50320896, 2)\n"
     ]
    }
   ],
   "source": [
    "lab_he = cv2.cvtColor(image, cv2.COLOR_BGR2LAB)\n",
    "ab=lab_he[:,:,1:3]\n",
    "print (ab.shape)\n",
    "ab = ab.reshape((nrows*ncols, 2))\n",
    "print (ab.shape)\n",
    "nColors=2"
   ]
  },
  {
   "cell_type": "code",
   "execution_count": 4,
   "metadata": {},
   "outputs": [
    {
     "name": "stdout",
     "output_type": "stream",
     "text": [
      "[[0]\n",
      " [0]\n",
      " [0]\n",
      " ..., \n",
      " [0]\n",
      " [0]\n",
      " [0]]\n",
      "1239482\n",
      "(8688, 5792)\n",
      "(8688, 5792, 3, 2)\n",
      "(8688, 5792, 3)\n",
      "0\n",
      "1\n"
     ]
    },
    {
     "data": {
      "image/png": "[encoded data removed]",
      "text/plain": [
       "<matplotlib.figure.Figure at 0x7f1dc8b95b00>"
      ]
     },
     "metadata": {},
     "output_type": "display_data"
    }
   ],
   "source": [
    "criteria = (cv2.TERM_CRITERIA_EPS + cv2.TERM_CRITERIA_MAX_ITER,2, 20)\n",
    "flags = (cv2.KMEANS_RANDOM_CENTERS)\n",
    "ab=np.float32(ab)\n",
    "_,cluster_idx,cluster_center = cv2.kmeans(ab,nColors,None,criteria,10,flags)\n",
    "print (cluster_idx)\n",
    "print(np.count_nonzero(cluster_idx))\n",
    "mean_cluster_value = np.average(cluster_center, axis=1)\n",
    "tmp = np.sort(mean_cluster_value)\n",
    "idx = np.argsort(mean_cluster_value)\n",
    "pixel_labels = cluster_idx.reshape(nrows,ncols)\n",
    "print(pixel_labels.shape)\n",
    "segmentedImages = np.zeros([nrows,ncols,3,nColors])\n",
    "print(segmentedImages.shape)\n",
    "rgb_label = np.repeat(pixel_labels[:, :, np.newaxis], 3, axis=2)\n",
    "print(rgb_label.shape)\n",
    "for i in range(0,2):\n",
    "    print (i)\n",
    "    color = image\n",
    "    color[rgb_label !=i] = 0\n",
    "    segmentedImages[:,:,:,i] = color\n",
    "newImage = segmentedImages[:,:,:,idx[1]]\n",
    "plt.imshow(newImage)\n",
    "plt.show()"
   ]
  },
  {
   "cell_type": "code",
   "execution_count": 31,
   "metadata": {
    "collapsed": true
   },
   "outputs": [],
   "source": [
    "mean_cluster_value = np.average(cluster_center, axis=1)\n",
    "tmp = np.sort(mean_cluster_value)\n",
    "idx = np.argsort(mean_cluster_value)"
   ]
  },
  {
   "cell_type": "code",
   "execution_count": 32,
   "metadata": {},
   "outputs": [
    {
     "name": "stdout",
     "output_type": "stream",
     "text": [
      "(8688, 5792)\n",
      "(8688, 5792, 3, 2)\n",
      "(8688, 5792, 3)\n"
     ]
    }
   ],
   "source": [
    "pixel_labels = cluster_idx.reshape(nrows,ncols)\n",
    "print(pixel_labels.shape)\n",
    "segmentedImages = np.zeros([nrows,ncols,3,nColors])\n",
    "print(segmentedImages.shape)\n",
    "rgb_label = np.repeat(pixel_labels[:, :, np.newaxis], 3, axis=2)\n",
    "print(rgb_label.shape)"
   ]
  },
  {
   "cell_type": "code",
   "execution_count": 11,
   "metadata": {},
   "outputs": [
    {
     "name": "stdout",
     "output_type": "stream",
     "text": [
      "0\n",
      "1\n"
     ]
    }
   ],
   "source": [
    "for i in range(0,2):\n",
    "    print (i)\n",
    "    color = image\n",
    "    color[rgb_label !=i+1] = 0\n",
    "    segmentedImages[:,:,:,i] = color"
   ]
  },
  {
   "cell_type": "code",
   "execution_count": 14,
   "metadata": {
    "collapsed": true
   },
   "outputs": [],
   "source": [
    "newImage = segmentedImages[:,:,:,1]"
   ]
  },
  {
   "cell_type": "code",
   "execution_count": 15,
   "metadata": {},
   "outputs": [
    {
     "data": {
      "image/png": "[encoded data removed]",
      "text/plain": [
       "<matplotlib.figure.Figure at 0x7f1d692aad68>"
      ]
     },
     "metadata": {},
     "output_type": "display_data"
    }
   ],
   "source": [
    "plt.imshow(newImage)\n",
    "plt.show()"
   ]
  },
  {
   "cell_type": "code",
   "execution_count": 17,
   "metadata": {},
   "outputs": [
    {
     "name": "stdout",
     "output_type": "stream",
     "text": [
      "(8688, 5792, 3)\n"
     ]
    }
   ],
   "source": [
    "cv2.imwrite('result.png',newImage)\n",
    "print(newImage.shape)"
   ]
  },
  {
   "cell_type": "code",
   "execution_count": 16,
   "metadata": {},
   "outputs": [
    {
     "ename": "IndexError",
     "evalue": "index 1 is out of bounds for axis 0 with size 1",
     "output_type": "error",
     "traceback": [
      "\u001b[0;31m---------------------------------------------------------------------------\u001b[0m",
      "\u001b[0;31mIndexError\u001b[0m                                Traceback (most recent call last)",
      "\u001b[0;32m<ipython-input-16-5c232ec44ebd>\u001b[0m in \u001b[0;36m<module>\u001b[0;34m()\u001b[0m\n\u001b[1;32m      5\u001b[0m \u001b[0;34m\u001b[0m\u001b[0m\n\u001b[1;32m      6\u001b[0m \u001b[0mmax_label\u001b[0m \u001b[0;34m=\u001b[0m \u001b[0;36m1\u001b[0m\u001b[0;34m\u001b[0m\u001b[0m\n\u001b[0;32m----> 7\u001b[0;31m \u001b[0mmax_size\u001b[0m \u001b[0;34m=\u001b[0m \u001b[0msizes\u001b[0m\u001b[0;34m[\u001b[0m\u001b[0;36m1\u001b[0m\u001b[0;34m]\u001b[0m\u001b[0;34m\u001b[0m\u001b[0m\n\u001b[0m\u001b[1;32m      8\u001b[0m \u001b[0;32mfor\u001b[0m \u001b[0mi\u001b[0m \u001b[0;32min\u001b[0m \u001b[0mrange\u001b[0m\u001b[0;34m(\u001b[0m\u001b[0;36m2\u001b[0m\u001b[0;34m,\u001b[0m \u001b[0mnb_components\u001b[0m\u001b[0;34m)\u001b[0m\u001b[0;34m:\u001b[0m\u001b[0;34m\u001b[0m\u001b[0m\n\u001b[1;32m      9\u001b[0m     \u001b[0;32mif\u001b[0m \u001b[0msizes\u001b[0m\u001b[0;34m[\u001b[0m\u001b[0mi\u001b[0m\u001b[0;34m]\u001b[0m \u001b[0;34m>\u001b[0m \u001b[0mmax_size\u001b[0m\u001b[0;34m:\u001b[0m\u001b[0;34m\u001b[0m\u001b[0m\n",
      "\u001b[0;31mIndexError\u001b[0m: index 1 is out of bounds for axis 0 with size 1"
     ]
    }
   ],
   "source": [
    "newImage = newImage.astype('uint8')\n",
    "temp = newImage[:,:,0]\n",
    "nb_components, output, stats, centroids = cv2.connectedComponentsWithStats(temp,8, cv2.CV_32S)\n",
    "sizes = stats[:, -1]\n",
    "\n",
    "max_label = 1\n",
    "max_size = sizes[1]\n",
    "for i in range(2, nb_components):\n",
    "    if sizes[i] > max_size:\n",
    "        max_label = i\n",
    "        max_size = sizes[i]\n",
    "img2 = np.zeros(output.shape)\n",
    "img2[output == max_label] = 255\n",
    "cv2.imwrite('result2.ng',img2)\n",
    "plt.imshow(img2)\n",
    "plt.show()"
   ]
  },
  {
   "cell_type": "code",
   "execution_count": null,
   "metadata": {
    "collapsed": true,
    "scrolled": false
   },
   "outputs": [],
   "source": [
    "im=undesired_objects (temp)\n",
    "print(im.shape)\n",
    "plt.imshow(im)\n",
    "plt.show()"
   ]
  },
  {
   "cell_type": "code",
   "execution_count": null,
   "metadata": {
    "collapsed": true
   },
   "outputs": [],
   "source": [
    "def undesired_objects (image):\n",
    "    image = image.astype('uint8')\n",
    "    nb_components, output, stats, centroids = cv2.connectedComponentsWithStats(image, connectivity=4)\n",
    "    sizes = stats[:, -1]\n",
    "\n",
    "    max_label = 1\n",
    "    max_size = sizes[1]\n",
    "    for i in range(2, nb_components):\n",
    "        if sizes[i] > max_size:\n",
    "            max_label = i\n",
    "            max_size = sizes[i]\n",
    "\n",
    "    img2 = np.zeros(output.shape)\n",
    "    img2[output == max_label] = 255\n",
    "\n"
   ]
  },
  {
   "cell_type": "code",
   "execution_count": null,
   "metadata": {
    "collapsed": true
   },
   "outputs": [],
   "source": []
  }
 ],
 "metadata": {
  "kernelspec": {
   "display_name": "Python 3",
   "language": "python",
   "name": "python3"
  },
  "language_info": {
   "codemirror_mode": {
    "name": "ipython",
    "version": 3
   },
   "file_extension": ".py",
   "mimetype": "text/x-python",
   "name": "python",
   "nbconvert_exporter": "python",
   "pygments_lexer": "ipython3",
   "version": "3.6.2"
  }
 },
 "nbformat": 4,
 "nbformat_minor": 2
}
