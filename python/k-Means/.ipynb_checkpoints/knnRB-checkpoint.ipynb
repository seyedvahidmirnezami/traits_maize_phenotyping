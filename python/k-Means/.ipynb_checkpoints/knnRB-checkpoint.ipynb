{
 "cells": [
  {
   "cell_type": "code",
   "execution_count": 12,
   "metadata": {
    "collapsed": true
   },
   "outputs": [],
   "source": [
    "import numpy as np\n",
    "import cv2\n",
    "import matplotlib.pyplot as plt\n",
    "import numpy.matlib"
   ]
  },
  {
   "cell_type": "code",
   "execution_count": 13,
   "metadata": {},
   "outputs": [
    {
     "name": "stdout",
     "output_type": "stream",
     "text": [
      "nrows\n",
      "8688\n",
      "ncols\n",
      "5792\n"
     ]
    }
   ],
   "source": [
    "image = cv2.imread('C304B-4-07252017-2K7A2259.JPG',cv2.IMREAD_COLOR)\n",
    "nrows, ncols, channels = image.shape\n",
    "print ('nrows')\n",
    "print (nrows)\n",
    "print ('ncols')\n",
    "print (ncols)"
   ]
  },
  {
   "cell_type": "code",
   "execution_count": 14,
   "metadata": {},
   "outputs": [
    {
     "name": "stdout",
     "output_type": "stream",
     "text": [
      "(8688, 5792, 2)\n",
      "(50320896, 2)\n"
     ]
    }
   ],
   "source": [
    "lab_he = cv2.cvtColor(image, cv2.COLOR_BGR2LAB)\n",
    "ab=lab_he[:,:,1:3]\n",
    "print (ab.shape)\n",
    "ab = ab.reshape((nrows*ncols, 2))\n",
    "print (ab.shape)\n",
    "nColors=2"
   ]
  },
  {
   "cell_type": "code",
   "execution_count": 26,
   "metadata": {},
   "outputs": [
    {
     "name": "stdout",
     "output_type": "stream",
     "text": [
      "[[0]\n",
      " [0]\n",
      " [0]\n",
      " ..., \n",
      " [0]\n",
      " [0]\n",
      " [0]]\n"
     ]
    },
    {
     "data": {
      "text/plain": [
       "1249133"
      ]
     },
     "execution_count": 26,
     "metadata": {},
     "output_type": "execute_result"
    }
   ],
   "source": [
    "criteria = (cv2.TERM_CRITERIA_EPS + cv2.TERM_CRITERIA_MAX_ITER,2, 20)\n",
    "flags = (cv2.KMEANS_RANDOM_CENTERS)\n",
    "ab=np.float32(ab)\n",
    "_,cluster_idx,cluster_center = cv2.kmeans(ab,nColors,None,criteria,10,flags)\n",
    "print (cluster_idx)\n",
    "np.count_nonzero(cluster_idx)"
   ]
  },
  {
   "cell_type": "code",
   "execution_count": 17,
   "metadata": {
    "collapsed": true
   },
   "outputs": [],
   "source": [
    "mean_cluster_value = np.average(cluster_center, axis=1)\n",
    "tmp = np.sort(mean_cluster_value)\n",
    "idx = np.argsort(mean_cluster_value)"
   ]
  },
  {
   "cell_type": "code",
   "execution_count": 23,
   "metadata": {},
   "outputs": [
    {
     "name": "stdout",
     "output_type": "stream",
     "text": [
      "(8688, 5792)\n",
      "(8688, 5792, 3, 2)\n",
      "(8688, 5792, 3)\n"
     ]
    }
   ],
   "source": [
    "pixel_labels = cluster_idx.reshape(nrows,ncols)\n",
    "print(pixel_labels.shape)\n",
    "segmentedImages = np.zeros([nrows,ncols,3,nColors])\n",
    "print(segmentedImages.shape)\n",
    "rgb_label = np.repeat(pixel_labels[:, :, np.newaxis], 3, axis=2)\n",
    "print(rgb_label.shape)"
   ]
  },
  {
   "cell_type": "code",
   "execution_count": 27,
   "metadata": {},
   "outputs": [
    {
     "name": "stdout",
     "output_type": "stream",
     "text": [
      "0\n",
      "1\n"
     ]
    }
   ],
   "source": [
    "for i in range(0,2):\n",
    "    print (i)\n",
    "    color = image\n",
    "    color[rgb_label !=i] = 0\n",
    "    segmentedImages[:,:,:,i] = color"
   ]
  },
  {
   "cell_type": "code",
   "execution_count": 28,
   "metadata": {
    "collapsed": true
   },
   "outputs": [],
   "source": [
    "newImage = segmentedImages[:,:,:,idx[1]]"
   ]
  },
  {
   "cell_type": "code",
   "execution_count": 29,
   "metadata": {},
   "outputs": [
    {
     "data": {
      "image/png": "[encoded data removed]",
      "text/plain": [
       "<matplotlib.figure.Figure at 0x7fbc972c58d0>"
      ]
     },
     "metadata": {},
     "output_type": "display_data"
    }
   ],
   "source": [
    "plt.imshow(newImage)\n",
    "plt.show()"
   ]
  },
  {
   "cell_type": "code",
   "execution_count": 50,
   "metadata": {},
   "outputs": [
    {
     "name": "stdout",
     "output_type": "stream",
     "text": [
      "(8688, 5792, 3)\n"
     ]
    }
   ],
   "source": [
    "cv2.imwrite('result.png',newImage)\n",
    "print(newImage.shape)"
   ]
  },
  {
   "cell_type": "code",
   "execution_count": 51,
   "metadata": {},
   "outputs": [],
   "source": [
    "newImage = newImage.astype('uint8')\n",
    "temp = newImage[:,:,0]\n",
    "output = cv2.connectedComponentsWithStats(temp,8, cv2.CV_32S)\n",
    "print(output)"
   ]
  },
  {
   "cell_type": "code",
   "execution_count": 46,
   "metadata": {
    "scrolled": false
   },
   "outputs": [
    {
     "ename": "error",
     "evalue": "/feedstock_root/build_artefacts/opencv_1506439690741/work/opencv-3.3.0/modules/imgproc/src/connectedcomponents.cpp:3932: error: (-215) L.channels() == 1 && I.channels() == 1 in function connectedComponents_sub1\n",
     "output_type": "error",
     "traceback": [
      "\u001b[0;31m---------------------------------------------------------------------------\u001b[0m",
      "\u001b[0;31merror\u001b[0m                                     Traceback (most recent call last)",
      "\u001b[0;32m<ipython-input-46-e10dd3fa1ae2>\u001b[0m in \u001b[0;36m<module>\u001b[0;34m()\u001b[0m\n\u001b[1;32m      1\u001b[0m \u001b[0mnewImage\u001b[0m \u001b[0;34m=\u001b[0m \u001b[0mnewImage\u001b[0m\u001b[0;34m.\u001b[0m\u001b[0mastype\u001b[0m\u001b[0;34m(\u001b[0m\u001b[0;34m'uint8'\u001b[0m\u001b[0;34m)\u001b[0m\u001b[0;34m\u001b[0m\u001b[0m\n\u001b[0;32m----> 2\u001b[0;31m \u001b[0moutput\u001b[0m \u001b[0;34m=\u001b[0m \u001b[0mcv2\u001b[0m\u001b[0;34m.\u001b[0m\u001b[0mconnectedComponentsWithStats\u001b[0m\u001b[0;34m(\u001b[0m\u001b[0mnewImage\u001b[0m\u001b[0;34m,\u001b[0m\u001b[0;36m8\u001b[0m\u001b[0;34m)\u001b[0m\u001b[0;34m\u001b[0m\u001b[0m\n\u001b[0m",
      "\u001b[0;31merror\u001b[0m: /feedstock_root/build_artefacts/opencv_1506439690741/work/opencv-3.3.0/modules/imgproc/src/connectedcomponents.cpp:3932: error: (-215) L.channels() == 1 && I.channels() == 1 in function connectedComponents_sub1\n"
     ]
    }
   ],
   "source": []
  },
  {
   "cell_type": "code",
   "execution_count": null,
   "metadata": {
    "collapsed": true
   },
   "outputs": [],
   "source": [
    "def undesired_objects (image):\n",
    "    image = image.astype('uint8')\n",
    "    nb_components, output, stats, centroids = cv2.connectedComponentsWithStats(image, connectivity=4)\n",
    "    sizes = stats[:, -1]\n",
    "\n",
    "    max_label = 1\n",
    "    max_size = sizes[1]\n",
    "    for i in range(2, nb_components):\n",
    "        if sizes[i] > max_size:\n",
    "            max_label = i\n",
    "            max_size = sizes[i]\n",
    "\n",
    "    img2 = np.zeros(output.shape)\n",
    "    img2[output == max_label] = 255\n",
    "    cv2.imshow(\"Biggest component\", img2)\n",
    "    cv2.waitKey()"
   ]
  }
 ],
 "metadata": {
  "kernelspec": {
   "display_name": "Python 3",
   "language": "python",
   "name": "python3"
  },
  "language_info": {
   "codemirror_mode": {
    "name": "ipython",
    "version": 3
   },
   "file_extension": ".py",
   "mimetype": "text/x-python",
   "name": "python",
   "nbconvert_exporter": "python",
   "pygments_lexer": "ipython3",
   "version": "3.6.2"
  }
 },
 "nbformat": 4,
 "nbformat_minor": 2
}
